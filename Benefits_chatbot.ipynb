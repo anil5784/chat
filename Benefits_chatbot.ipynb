{
 "cells": [
  {
   "cell_type": "code",
   "execution_count": 14,
   "id": "49250246-f002-4bba-bc42-7c5bc75eef31",
   "metadata": {
    "tags": []
   },
   "outputs": [],
   "source": [
    "#import libraries\n",
    "import os\n",
    "import openai\n",
    "import sys\n",
    "\n",
    "from langchain.document_loaders import PyPDFLoader, TextLoader, PyPDFDirectoryLoader\n",
    "from langchain.text_splitter import CharacterTextSplitter, RecursiveCharacterTextSplitter\n",
    "from langchain.embeddings.openai import OpenAIEmbeddings\n",
    "from langchain.vectorstores import Chroma\n",
    "from langchain.chat_models import ChatOpenAI\n",
    "\n",
    "from langchain.chains import RetrievalQA, ConversationalRetrievalChain\n",
    "from langchain.prompts import PromptTemplate\n",
    "from langchain.memory import ConversationBufferMemory\n"
   ]
  },
  {
   "cell_type": "code",
   "execution_count": 4,
   "id": "5f6317ab-93e6-43b9-851d-da5d5e07a272",
   "metadata": {
    "tags": []
   },
   "outputs": [],
   "source": [
    "# Read OpenAI API KEY\n",
    "sys.path.append('../..')\n",
    "from dotenv import load_dotenv, find_dotenv\n",
    "_ = load_dotenv(find_dotenv()) # read local .env file\n",
    "openai.api_key  = os.environ['OPENAI_API_KEY']"
   ]
  },
  {
   "cell_type": "code",
   "execution_count": 35,
   "id": "46783df0-67c1-4601-8e9d-06a29f196a9c",
   "metadata": {
    "tags": []
   },
   "outputs": [
    {
     "data": {
      "text/plain": [
       "52"
      ]
     },
     "execution_count": 35,
     "metadata": {},
     "output_type": "execute_result"
    }
   ],
   "source": [
    "#load pdf\n",
    "loader = PyPDFDirectoryLoader(\"data/benefits/\")\n",
    "pages = loader.load()\n",
    "len(pages)"
   ]
  },
  {
   "cell_type": "code",
   "execution_count": 38,
   "id": "4cdc4a2c-4a93-4bef-b40b-c1953bc64d0c",
   "metadata": {
    "tags": []
   },
   "outputs": [
    {
     "name": "stdout",
     "output_type": "stream",
     "text": [
      "{'source': 'data\\\\benefits\\\\CS US Benefits Guide February 2023.pdf', 'page': 0}\n",
      "{'source': 'data\\\\benefits\\\\CS US Benefits Guide February 2023.pdf', 'page': 1}\n",
      "{'source': 'data\\\\benefits\\\\CS US Benefits Guide February 2023.pdf', 'page': 2}\n",
      "{'source': 'data\\\\benefits\\\\CS US Benefits Guide February 2023.pdf', 'page': 3}\n",
      "{'source': 'data\\\\benefits\\\\CS US Benefits Guide February 2023.pdf', 'page': 4}\n",
      "{'source': 'data\\\\benefits\\\\CS US Benefits Guide February 2023.pdf', 'page': 5}\n",
      "{'source': 'data\\\\benefits\\\\CS US Benefits Guide February 2023.pdf', 'page': 6}\n",
      "{'source': 'data\\\\benefits\\\\CS US Benefits Guide February 2023.pdf', 'page': 7}\n",
      "{'source': 'data\\\\benefits\\\\CS US Benefits Guide February 2023.pdf', 'page': 8}\n",
      "{'source': 'data\\\\benefits\\\\CS US Benefits Guide February 2023.pdf', 'page': 9}\n"
     ]
    }
   ],
   "source": [
    "for p in pages[:10]:    \n",
    "    print(p.metadata)   "
   ]
  },
  {
   "cell_type": "code",
   "execution_count": 40,
   "id": "a25e7bec-3415-40a6-8295-1839d8fa4553",
   "metadata": {
    "tags": []
   },
   "outputs": [],
   "source": [
    "for p in pages:    \n",
    "    company = 'CS' if 'CS' in p.metadata['source'] else 'UBS'\n",
    "    p.metadata.update({'company': company})   "
   ]
  },
  {
   "cell_type": "code",
   "execution_count": 41,
   "id": "fdd24739-ab55-437e-aa58-862f25657ece",
   "metadata": {
    "tags": []
   },
   "outputs": [
    {
     "name": "stdout",
     "output_type": "stream",
     "text": [
      "{'source': 'data\\\\benefits\\\\CS US Benefits Guide February 2023.pdf', 'page': 0, 'company': 'CS'}\n",
      "{'source': 'data\\\\benefits\\\\CS US Benefits Guide February 2023.pdf', 'page': 1, 'company': 'CS'}\n",
      "{'source': 'data\\\\benefits\\\\CS US Benefits Guide February 2023.pdf', 'page': 2, 'company': 'CS'}\n",
      "{'source': 'data\\\\benefits\\\\CS US Benefits Guide February 2023.pdf', 'page': 3, 'company': 'CS'}\n",
      "{'source': 'data\\\\benefits\\\\CS US Benefits Guide February 2023.pdf', 'page': 4, 'company': 'CS'}\n",
      "{'source': 'data\\\\benefits\\\\CS US Benefits Guide February 2023.pdf', 'page': 5, 'company': 'CS'}\n",
      "{'source': 'data\\\\benefits\\\\CS US Benefits Guide February 2023.pdf', 'page': 6, 'company': 'CS'}\n",
      "{'source': 'data\\\\benefits\\\\CS US Benefits Guide February 2023.pdf', 'page': 7, 'company': 'CS'}\n",
      "{'source': 'data\\\\benefits\\\\CS US Benefits Guide February 2023.pdf', 'page': 8, 'company': 'CS'}\n",
      "{'source': 'data\\\\benefits\\\\CS US Benefits Guide February 2023.pdf', 'page': 9, 'company': 'CS'}\n"
     ]
    }
   ],
   "source": [
    "for p in pages[:10]:    \n",
    "    print(p.metadata)   "
   ]
  },
  {
   "cell_type": "code",
   "execution_count": 42,
   "id": "5cc767ad-94a5-4958-8314-ed03b5c6901f",
   "metadata": {
    "tags": []
   },
   "outputs": [],
   "source": [
    "#split pages\n",
    "text_splitter = CharacterTextSplitter(\n",
    "    separator=\"\\n\",\n",
    "    chunk_size=1000,\n",
    "    chunk_overlap=150,\n",
    "    length_function=len\n",
    ")\n",
    "docs = text_splitter.split_documents(pages)\n",
    "\n",
    "#crete vector db and save the data\n",
    "persist_directory = 'metadata/chroma/'\n",
    "embedding = OpenAIEmbeddings()\n",
    "vectordb = Chroma.from_documents(\n",
    "    documents=docs,\n",
    "    embedding=embedding,\n",
    "    persist_directory=persist_directory\n",
    ")\n",
    "vectordb.persist()\n"
   ]
  },
  {
   "cell_type": "code",
   "execution_count": 43,
   "id": "1a46e79f-f6fa-4798-b4b2-71fa9fb35d09",
   "metadata": {
    "tags": []
   },
   "outputs": [],
   "source": [
    "vectordb = Chroma(persist_directory=persist_directory, embedding_function=embedding)\n",
    "llm = ChatOpenAI(model_name=\"gpt-3.5-turbo\", temperature=0)"
   ]
  },
  {
   "cell_type": "code",
   "execution_count": 83,
   "id": "afff53fc-e588-4f13-be4a-6f920b979118",
   "metadata": {
    "tags": []
   },
   "outputs": [],
   "source": [
    "def qa(query, company=''):    \n",
    "    search_kwargs={\"k\": 3}\n",
    "    if company !='':\n",
    "        search_kwargs.update({\"filter\": {\"company\": company}}) \n",
    "    \n",
    "    retriever= vectordb.as_retriever(search_type=\"similarity\", search_kwargs=search_kwargs)\n",
    "    qa_chain = RetrievalQA.from_chain_type(llm, retriever=retriever)\n",
    "    result = qa_chain({\"query\": query})\n",
    "    print(result[\"result\"])"
   ]
  },
  {
   "cell_type": "code",
   "execution_count": 77,
   "id": "f3acc864-a37d-4a23-ba49-309d767983ab",
   "metadata": {
    "tags": []
   },
   "outputs": [
    {
     "name": "stdout",
     "output_type": "stream",
     "text": [
      "The cost for basic life insurance is not mentioned in the provided context.\n"
     ]
    }
   ],
   "source": [
    "qa(query=\"what is cost for basic life insurance?\", company=\"CS\")"
   ]
  },
  {
   "cell_type": "code",
   "execution_count": 78,
   "id": "f64579c8-841e-41e2-9f11-122d98f2afae",
   "metadata": {
    "tags": []
   },
   "outputs": [
    {
     "name": "stdout",
     "output_type": "stream",
     "text": [
      "The basic life insurance coverage is provided at no cost to employees.\n"
     ]
    }
   ],
   "source": [
    "qa(query=\"what is cost for basic life insurance?\", company=\"UBS\")"
   ]
  },
  {
   "cell_type": "code",
   "execution_count": 79,
   "id": "d6f99fca-9af5-42e0-93fa-a281ab3ca266",
   "metadata": {
    "tags": []
   },
   "outputs": [
    {
     "name": "stdout",
     "output_type": "stream",
     "text": [
      "The basic life insurance coverage is provided at no cost to eligible employees.\n"
     ]
    }
   ],
   "source": [
    "qa(query=\"what is cost for basic life insurance?\")"
   ]
  },
  {
   "cell_type": "code",
   "execution_count": 80,
   "id": "d756454c-78ad-425c-b755-5e09cc15f577",
   "metadata": {
    "tags": []
   },
   "outputs": [
    {
     "name": "stdout",
     "output_type": "stream",
     "text": [
      "The information provided does not specify the exact dates for open enrollment. It states that Benefits Annual Enrollment typically takes place in the fall. For specific dates, it is recommended to refer to the Benefits Service Center or the provided 2023 U.S. Benefits Guide.\n"
     ]
    }
   ],
   "source": [
    "qa(query=\"when is open enrollment?\", company=\"CS\")"
   ]
  },
  {
   "cell_type": "code",
   "execution_count": 81,
   "id": "af340531-954c-4d61-9679-9991cfc54a28",
   "metadata": {
    "tags": []
   },
   "outputs": [
    {
     "name": "stdout",
     "output_type": "stream",
     "text": [
      "Open Enrollment is from November 1 to November 17.\n"
     ]
    }
   ],
   "source": [
    "qa(query=\"when is open enrollment?\", company=\"UBS\")"
   ]
  },
  {
   "cell_type": "code",
   "execution_count": 82,
   "id": "967d9012-bc5c-4ab5-92f7-bd4ca923ff11",
   "metadata": {
    "tags": []
   },
   "outputs": [
    {
     "name": "stdout",
     "output_type": "stream",
     "text": [
      "The information provided does not specify the exact dates of the open enrollment period.\n"
     ]
    }
   ],
   "source": [
    "qa(query=\"when is open enrollment?\")"
   ]
  },
  {
   "cell_type": "code",
   "execution_count": null,
   "id": "6d194043-3e48-4a81-beba-6cfa2e66860d",
   "metadata": {},
   "outputs": [],
   "source": []
  }
 ],
 "metadata": {
  "kernelspec": {
   "display_name": "Python 3 (ipykernel)",
   "language": "python",
   "name": "python3"
  },
  "language_info": {
   "codemirror_mode": {
    "name": "ipython",
    "version": 3
   },
   "file_extension": ".py",
   "mimetype": "text/x-python",
   "name": "python",
   "nbconvert_exporter": "python",
   "pygments_lexer": "ipython3",
   "version": "3.11.4"
  }
 },
 "nbformat": 4,
 "nbformat_minor": 5
}
